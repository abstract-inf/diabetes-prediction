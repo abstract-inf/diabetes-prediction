{
 "cells": [
  {
   "cell_type": "code",
   "execution_count": 142,
   "metadata": {},
   "outputs": [
    {
     "name": "stdout",
     "output_type": "stream",
     "text": [
      "1/1 [==============================] - 0s 83ms/step\n",
      "random index: 144574\n",
      "Test data (scaled):\n",
      "[[1.         1.         1.         0.26744186 0.         0.\n",
      "  0.         0.         1.         1.         0.         1.\n",
      "  0.         0.75       0.         0.         0.         1.\n",
      "  0.91666667 1.         0.85714286]]\n",
      "Raw prediction: [[[0.52424407]]]\n",
      "\n",
      "Predicted: 1\n",
      "Actual: 1\n"
     ]
    }
   ],
   "source": [
    "import tensorflow as tf\n",
    "import pandas as pd\n",
    "from sklearn.preprocessing import MinMaxScaler\n",
    "import random\n",
    "\n",
    "# Read the dataset\n",
    "df = pd.read_csv('diabetes_binary_health_indicators_BRFSS2015.csv')\n",
    "\n",
    "# Select a random index\n",
    "rng = random.randint(0, 200_000)\n",
    "test = df.drop(columns=['Diabetes_binary']).iloc[[rng]]\n",
    "\n",
    "# Fit the scaler on the training data and transform the test data\n",
    "scaler = MinMaxScaler()\n",
    "X = df.drop(columns=['Diabetes_binary'])\n",
    "scaler.fit(X)  # Fit on the entire dataset (or just training data)\n",
    "test_scaled = scaler.transform(test)\n",
    "test_scaled_reshaped = test_scaled.reshape(test_scaled.shape[0], 1, test_scaled.shape[1])\n",
    "\n",
    "# Load the trained model\n",
    "model = tf.keras.models.load_model(\"best_local_model/binary_dense_model_v2.h5\")\n",
    "\n",
    "# Make the prediction (ensure the correct shape for input)\n",
    "prediction = model.predict(test_scaled_reshaped)\n",
    "\n",
    "# Output the result\n",
    "print(f'random index: {rng}')\n",
    "print(f\"Test data (scaled):\\n{test_scaled}\")\n",
    "print(f\"Raw prediction: {prediction}\\n\")\n",
    "\n",
    "# Prediction thresholding (check if the prediction is less than 0.5 or greater)\n",
    "predicted_class = 0 if prediction < 0.5 else 1\n",
    "actual_class = int(df.iloc[rng, 0])  # Actual class value\n",
    "\n",
    "print(f\"Predicted: {predicted_class}\")\n",
    "print(f\"Actual: {actual_class}\")\n"
   ]
  }
 ],
 "metadata": {
  "kernelspec": {
   "display_name": "tf2.10",
   "language": "python",
   "name": "python3"
  },
  "language_info": {
   "codemirror_mode": {
    "name": "ipython",
    "version": 3
   },
   "file_extension": ".py",
   "mimetype": "text/x-python",
   "name": "python",
   "nbconvert_exporter": "python",
   "pygments_lexer": "ipython3",
   "version": "3.10.16"
  }
 },
 "nbformat": 4,
 "nbformat_minor": 2
}
